{
 "cells": [
  {
   "cell_type": "code",
   "execution_count": 3,
   "id": "2fa6e301",
   "metadata": {},
   "outputs": [],
   "source": [
    "# Import dependencies\n",
    "import pandas as pd"
   ]
  },
  {
   "cell_type": "code",
   "execution_count": 4,
   "id": "d9456c4c",
   "metadata": {},
   "outputs": [
    {
     "data": {
      "text/html": [
       "<div>\n",
       "<style scoped>\n",
       "    .dataframe tbody tr th:only-of-type {\n",
       "        vertical-align: middle;\n",
       "    }\n",
       "\n",
       "    .dataframe tbody tr th {\n",
       "        vertical-align: top;\n",
       "    }\n",
       "\n",
       "    .dataframe thead th {\n",
       "        text-align: right;\n",
       "    }\n",
       "</style>\n",
       "<table border=\"1\" class=\"dataframe\">\n",
       "  <thead>\n",
       "    <tr style=\"text-align: right;\">\n",
       "      <th></th>\n",
       "      <th>State&amp;County</th>\n",
       "      <th>Surface_Mines</th>\n",
       "      <th>Underground_Mines</th>\n",
       "    </tr>\n",
       "  </thead>\n",
       "  <tbody>\n",
       "    <tr>\n",
       "      <th>0</th>\n",
       "      <td>Pennsylvania, Clearfield</td>\n",
       "      <td>22</td>\n",
       "      <td>2.0</td>\n",
       "    </tr>\n",
       "    <tr>\n",
       "      <th>1</th>\n",
       "      <td>Pennsylvania, Schuylkill</td>\n",
       "      <td>22</td>\n",
       "      <td>5.0</td>\n",
       "    </tr>\n",
       "    <tr>\n",
       "      <th>2</th>\n",
       "      <td>Pennsylvania, Somerset</td>\n",
       "      <td>13</td>\n",
       "      <td>5.0</td>\n",
       "    </tr>\n",
       "    <tr>\n",
       "      <th>3</th>\n",
       "      <td>West Virginia, Mcdowell</td>\n",
       "      <td>13</td>\n",
       "      <td>12.0</td>\n",
       "    </tr>\n",
       "    <tr>\n",
       "      <th>4</th>\n",
       "      <td>Kentucky, Pike</td>\n",
       "      <td>13</td>\n",
       "      <td>14.0</td>\n",
       "    </tr>\n",
       "  </tbody>\n",
       "</table>\n",
       "</div>"
      ],
      "text/plain": [
       "               State&County  Surface_Mines  Underground_Mines\n",
       "0  Pennsylvania, Clearfield             22                2.0\n",
       "1  Pennsylvania, Schuylkill             22                5.0\n",
       "2    Pennsylvania, Somerset             13                5.0\n",
       "3   West Virginia, Mcdowell             13               12.0\n",
       "4            Kentucky, Pike             13               14.0"
      ]
     },
     "execution_count": 4,
     "metadata": {},
     "output_type": "execute_result"
    }
   ],
   "source": [
    "# Read in the coal dataframe\n",
    "file_path = \"./Resources/processed_Coal_Mines.csv\"\n",
    "coal_df = pd.read_csv(file_path)\n",
    "\n",
    "# View all columns for dataframes\n",
    "pd.set_option('display.max_columns', None)\n",
    "\n",
    "# View the dataframe\n",
    "coal_df.head(5)"
   ]
  },
  {
   "cell_type": "code",
   "execution_count": 5,
   "id": "28273f37",
   "metadata": {},
   "outputs": [
    {
     "data": {
      "text/html": [
       "<div>\n",
       "<style scoped>\n",
       "    .dataframe tbody tr th:only-of-type {\n",
       "        vertical-align: middle;\n",
       "    }\n",
       "\n",
       "    .dataframe tbody tr th {\n",
       "        vertical-align: top;\n",
       "    }\n",
       "\n",
       "    .dataframe thead th {\n",
       "        text-align: right;\n",
       "    }\n",
       "</style>\n",
       "<table border=\"1\" class=\"dataframe\">\n",
       "  <thead>\n",
       "    <tr style=\"text-align: right;\">\n",
       "      <th></th>\n",
       "      <th>State&amp;County</th>\n",
       "      <th>Total_Population</th>\n",
       "      <th>Levels_COPD</th>\n",
       "      <th>Levels_Smokers</th>\n",
       "    </tr>\n",
       "  </thead>\n",
       "  <tbody>\n",
       "    <tr>\n",
       "      <th>0</th>\n",
       "      <td>Graham, Arizona</td>\n",
       "      <td>38,837</td>\n",
       "      <td>6.6</td>\n",
       "      <td>17.4</td>\n",
       "    </tr>\n",
       "    <tr>\n",
       "      <th>1</th>\n",
       "      <td>Prince of Wales-Hyder, Alaska</td>\n",
       "      <td>6,203</td>\n",
       "      <td>7.9</td>\n",
       "      <td>25.6</td>\n",
       "    </tr>\n",
       "    <tr>\n",
       "      <th>2</th>\n",
       "      <td>Conecuh, Alabama</td>\n",
       "      <td>12,067</td>\n",
       "      <td>9.4</td>\n",
       "      <td>25.1</td>\n",
       "    </tr>\n",
       "    <tr>\n",
       "      <th>3</th>\n",
       "      <td>Nevada, Arkansas</td>\n",
       "      <td>8,252</td>\n",
       "      <td>8.5</td>\n",
       "      <td>23.0</td>\n",
       "    </tr>\n",
       "    <tr>\n",
       "      <th>4</th>\n",
       "      <td>Tehama, California</td>\n",
       "      <td>65,084</td>\n",
       "      <td>7.2</td>\n",
       "      <td>16.6</td>\n",
       "    </tr>\n",
       "  </tbody>\n",
       "</table>\n",
       "</div>"
      ],
      "text/plain": [
       "                    State&County Total_Population  Levels_COPD  Levels_Smokers\n",
       "0                Graham, Arizona           38,837          6.6            17.4\n",
       "1  Prince of Wales-Hyder, Alaska            6,203          7.9            25.6\n",
       "2               Conecuh, Alabama           12,067          9.4            25.1\n",
       "3               Nevada, Arkansas            8,252          8.5            23.0\n",
       "4             Tehama, California           65,084          7.2            16.6"
      ]
     },
     "execution_count": 5,
     "metadata": {},
     "output_type": "execute_result"
    }
   ],
   "source": [
    "# This dataset is for 2019 but is from the 2021 release of PLACES\n",
    "# https://chronicdata.cdc.gov/500-Cities-Places/PLACES-Local-Data-for-Better-Health-County-Data-20/swc5-untb/data\n",
    "\n",
    "# Load in PLACES dataset filtered for COPD\n",
    "file_path = \"Resources/processed_PLACES_COPD.csv\"\n",
    "copd_df = pd.read_csv(file_path)\n",
    "\n",
    "# Display all rows \n",
    "pd.set_option('display.max_columns', None)\n",
    "\n",
    "# Show the dataframe\n",
    "copd_df.head()"
   ]
  },
  {
   "cell_type": "code",
   "execution_count": null,
   "id": "81b518d8",
   "metadata": {},
   "outputs": [],
   "source": []
  }
 ],
 "metadata": {
  "kernelspec": {
   "display_name": "PythonData",
   "language": "python",
   "name": "pythondata"
  },
  "language_info": {
   "codemirror_mode": {
    "name": "ipython",
    "version": 3
   },
   "file_extension": ".py",
   "mimetype": "text/x-python",
   "name": "python",
   "nbconvert_exporter": "python",
   "pygments_lexer": "ipython3",
   "version": "3.9.12"
  }
 },
 "nbformat": 4,
 "nbformat_minor": 5
}
