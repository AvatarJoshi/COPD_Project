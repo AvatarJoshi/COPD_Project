{
 "cells": [
  {
   "cell_type": "code",
   "execution_count": 1,
   "id": "c267f5c5",
   "metadata": {},
   "outputs": [],
   "source": [
    "# Import our dependencies\n",
    "import numpy as np\n",
    "import matplotlib.pyplot as plt\n",
    "import pandas as pd\n",
    "import tensorflow as tf\n",
    "from sklearn.preprocessing import StandardScaler,OneHotEncoder\n",
    "from sklearn.preprocessing import LabelEncoder"
   ]
  },
  {
   "cell_type": "code",
   "execution_count": 2,
   "id": "ecc12a75",
   "metadata": {},
   "outputs": [],
   "source": [
    "file_path = './Resources/processed_PLACES_COPD.csv'"
   ]
  },
  {
   "cell_type": "code",
   "execution_count": 3,
   "id": "bc1ff5e4",
   "metadata": {},
   "outputs": [],
   "source": [
    "# Importing the dataset\n",
    "dataset = pd.read_csv(file_path)\n"
   ]
  },
  {
   "cell_type": "code",
   "execution_count": 4,
   "id": "4f4a6cd8",
   "metadata": {},
   "outputs": [
    {
     "data": {
      "text/html": [
       "<div>\n",
       "<style scoped>\n",
       "    .dataframe tbody tr th:only-of-type {\n",
       "        vertical-align: middle;\n",
       "    }\n",
       "\n",
       "    .dataframe tbody tr th {\n",
       "        vertical-align: top;\n",
       "    }\n",
       "\n",
       "    .dataframe thead th {\n",
       "        text-align: right;\n",
       "    }\n",
       "</style>\n",
       "<table border=\"1\" class=\"dataframe\">\n",
       "  <thead>\n",
       "    <tr style=\"text-align: right;\">\n",
       "      <th></th>\n",
       "      <th>State_County</th>\n",
       "      <th>State</th>\n",
       "      <th>County</th>\n",
       "      <th>Levels_Smokers</th>\n",
       "      <th>Levels_COPD</th>\n",
       "    </tr>\n",
       "  </thead>\n",
       "  <tbody>\n",
       "    <tr>\n",
       "      <th>0</th>\n",
       "      <td>Cass, Iowa</td>\n",
       "      <td>Iowa</td>\n",
       "      <td>Cass</td>\n",
       "      <td>19.3</td>\n",
       "      <td>8.3</td>\n",
       "    </tr>\n",
       "    <tr>\n",
       "      <th>1</th>\n",
       "      <td>Monona, Iowa</td>\n",
       "      <td>Iowa</td>\n",
       "      <td>Monona</td>\n",
       "      <td>18.5</td>\n",
       "      <td>8.3</td>\n",
       "    </tr>\n",
       "    <tr>\n",
       "      <th>2</th>\n",
       "      <td>Dillingham, Alaska</td>\n",
       "      <td>Alaska</td>\n",
       "      <td>Dillingham</td>\n",
       "      <td>31.1</td>\n",
       "      <td>8.9</td>\n",
       "    </tr>\n",
       "    <tr>\n",
       "      <th>3</th>\n",
       "      <td>Custer, Colorado</td>\n",
       "      <td>Colorado</td>\n",
       "      <td>Custer</td>\n",
       "      <td>13.8</td>\n",
       "      <td>7.5</td>\n",
       "    </tr>\n",
       "    <tr>\n",
       "      <th>4</th>\n",
       "      <td>Ketchikan Gateway, Alaska</td>\n",
       "      <td>Alaska</td>\n",
       "      <td>Ketchikan Gateway</td>\n",
       "      <td>19.4</td>\n",
       "      <td>6.6</td>\n",
       "    </tr>\n",
       "  </tbody>\n",
       "</table>\n",
       "</div>"
      ],
      "text/plain": [
       "                State_County     State             County  Levels_Smokers  \\\n",
       "0                 Cass, Iowa      Iowa               Cass            19.3   \n",
       "1               Monona, Iowa      Iowa             Monona            18.5   \n",
       "2         Dillingham, Alaska    Alaska         Dillingham            31.1   \n",
       "3           Custer, Colorado  Colorado             Custer            13.8   \n",
       "4  Ketchikan Gateway, Alaska    Alaska  Ketchikan Gateway            19.4   \n",
       "\n",
       "   Levels_COPD  \n",
       "0          8.3  \n",
       "1          8.3  \n",
       "2          8.9  \n",
       "3          7.5  \n",
       "4          6.6  "
      ]
     },
     "execution_count": 4,
     "metadata": {},
     "output_type": "execute_result"
    }
   ],
   "source": [
    "dataset.head()"
   ]
  },
  {
   "cell_type": "code",
   "execution_count": 6,
   "id": "84f99a5c",
   "metadata": {},
   "outputs": [],
   "source": [
    "# dataset['Total_Population']= dataset['Total_Population'].astype(float)"
   ]
  },
  {
   "cell_type": "code",
   "execution_count": 7,
   "id": "6461085b",
   "metadata": {},
   "outputs": [],
   "source": [
    "le = LabelEncoder()\n",
    "df2 = dataset.copy()"
   ]
  },
  {
   "cell_type": "code",
   "execution_count": 8,
   "id": "ef5602b6",
   "metadata": {},
   "outputs": [
    {
     "data": {
      "text/plain": [
       "['State_County', 'State', 'County']"
      ]
     },
     "execution_count": 8,
     "metadata": {},
     "output_type": "execute_result"
    }
   ],
   "source": [
    "# Generate our categorical variable lists\n",
    "dataset_cat = dataset.dtypes[dataset.dtypes == \"object\"].index.tolist()\n",
    "dataset_cat"
   ]
  },
  {
   "cell_type": "code",
   "execution_count": 9,
   "id": "ca9b28ef",
   "metadata": {},
   "outputs": [],
   "source": [
    "# For loop to encode text columns to numerical values\n",
    "for textColumn in dataset_cat:\n",
    "    df2[textColumn] = le.fit_transform(df2[textColumn])"
   ]
  },
  {
   "cell_type": "code",
   "execution_count": 10,
   "id": "bc57cc06",
   "metadata": {},
   "outputs": [
    {
     "data": {
      "text/html": [
       "<div>\n",
       "<style scoped>\n",
       "    .dataframe tbody tr th:only-of-type {\n",
       "        vertical-align: middle;\n",
       "    }\n",
       "\n",
       "    .dataframe tbody tr th {\n",
       "        vertical-align: top;\n",
       "    }\n",
       "\n",
       "    .dataframe thead th {\n",
       "        text-align: right;\n",
       "    }\n",
       "</style>\n",
       "<table border=\"1\" class=\"dataframe\">\n",
       "  <thead>\n",
       "    <tr style=\"text-align: right;\">\n",
       "      <th></th>\n",
       "      <th>State_County</th>\n",
       "      <th>State</th>\n",
       "      <th>County</th>\n",
       "      <th>Levels_Smokers</th>\n",
       "      <th>Levels_COPD</th>\n",
       "    </tr>\n",
       "  </thead>\n",
       "  <tbody>\n",
       "    <tr>\n",
       "      <th>0</th>\n",
       "      <td>414</td>\n",
       "      <td>15</td>\n",
       "      <td>270</td>\n",
       "      <td>19.3</td>\n",
       "      <td>8.3</td>\n",
       "    </tr>\n",
       "    <tr>\n",
       "      <th>1</th>\n",
       "      <td>1938</td>\n",
       "      <td>15</td>\n",
       "      <td>1104</td>\n",
       "      <td>18.5</td>\n",
       "      <td>8.3</td>\n",
       "    </tr>\n",
       "    <tr>\n",
       "      <th>2</th>\n",
       "      <td>778</td>\n",
       "      <td>1</td>\n",
       "      <td>477</td>\n",
       "      <td>31.1</td>\n",
       "      <td>8.9</td>\n",
       "    </tr>\n",
       "    <tr>\n",
       "      <th>3</th>\n",
       "      <td>688</td>\n",
       "      <td>5</td>\n",
       "      <td>426</td>\n",
       "      <td>13.8</td>\n",
       "      <td>7.5</td>\n",
       "    </tr>\n",
       "    <tr>\n",
       "      <th>4</th>\n",
       "      <td>1484</td>\n",
       "      <td>1</td>\n",
       "      <td>869</td>\n",
       "      <td>19.4</td>\n",
       "      <td>6.6</td>\n",
       "    </tr>\n",
       "    <tr>\n",
       "      <th>...</th>\n",
       "      <td>...</td>\n",
       "      <td>...</td>\n",
       "      <td>...</td>\n",
       "      <td>...</td>\n",
       "      <td>...</td>\n",
       "    </tr>\n",
       "    <tr>\n",
       "      <th>3117</th>\n",
       "      <td>2515</td>\n",
       "      <td>49</td>\n",
       "      <td>1462</td>\n",
       "      <td>16.8</td>\n",
       "      <td>6.5</td>\n",
       "    </tr>\n",
       "    <tr>\n",
       "      <th>3118</th>\n",
       "      <td>290</td>\n",
       "      <td>49</td>\n",
       "      <td>209</td>\n",
       "      <td>15.1</td>\n",
       "      <td>5.5</td>\n",
       "    </tr>\n",
       "    <tr>\n",
       "      <th>3119</th>\n",
       "      <td>2994</td>\n",
       "      <td>48</td>\n",
       "      <td>1745</td>\n",
       "      <td>26.8</td>\n",
       "      <td>15.3</td>\n",
       "    </tr>\n",
       "    <tr>\n",
       "      <th>3120</th>\n",
       "      <td>3058</td>\n",
       "      <td>49</td>\n",
       "      <td>1785</td>\n",
       "      <td>17.1</td>\n",
       "      <td>5.8</td>\n",
       "    </tr>\n",
       "    <tr>\n",
       "      <th>3121</th>\n",
       "      <td>2964</td>\n",
       "      <td>49</td>\n",
       "      <td>1737</td>\n",
       "      <td>12.6</td>\n",
       "      <td>4.7</td>\n",
       "    </tr>\n",
       "  </tbody>\n",
       "</table>\n",
       "<p>3122 rows × 5 columns</p>\n",
       "</div>"
      ],
      "text/plain": [
       "      State_County  State  County  Levels_Smokers  Levels_COPD\n",
       "0              414     15     270            19.3          8.3\n",
       "1             1938     15    1104            18.5          8.3\n",
       "2              778      1     477            31.1          8.9\n",
       "3              688      5     426            13.8          7.5\n",
       "4             1484      1     869            19.4          6.6\n",
       "...            ...    ...     ...             ...          ...\n",
       "3117          2515     49    1462            16.8          6.5\n",
       "3118           290     49     209            15.1          5.5\n",
       "3119          2994     48    1745            26.8         15.3\n",
       "3120          3058     49    1785            17.1          5.8\n",
       "3121          2964     49    1737            12.6          4.7\n",
       "\n",
       "[3122 rows x 5 columns]"
      ]
     },
     "execution_count": 10,
     "metadata": {},
     "output_type": "execute_result"
    }
   ],
   "source": [
    "# Display dataframe\n",
    "df2"
   ]
  },
  {
   "cell_type": "code",
   "execution_count": 11,
   "id": "70f0f676",
   "metadata": {},
   "outputs": [],
   "source": [
    "#X = dataset.drop(['Levels_COPD'], axis = 1).values\n",
    "#y = dataset['Levels_COPD']"
   ]
  },
  {
   "cell_type": "code",
   "execution_count": 12,
   "id": "4724e94a",
   "metadata": {},
   "outputs": [],
   "source": [
    "# Create our features\n",
    "a_cols = [i for i in df2.columns if i not in ('Levels_COPD')]\n",
    "X = df2[a_cols]\n",
    "\n",
    "# Create our target\n",
    "y = df2['Levels_COPD']"
   ]
  },
  {
   "cell_type": "code",
   "execution_count": null,
   "id": "f8bc5b1c",
   "metadata": {},
   "outputs": [],
   "source": []
  },
  {
   "cell_type": "code",
   "execution_count": 13,
   "id": "eb1c03af",
   "metadata": {},
   "outputs": [],
   "source": [
    "# Step 3: Splitting the dataset into the Training set and Test set\n",
    "from sklearn.model_selection import train_test_split\n",
    "X_train, X_test, y_train, y_test = train_test_split(X, y, test_size = 0.05)"
   ]
  },
  {
   "cell_type": "code",
   "execution_count": 14,
   "id": "ff42f765",
   "metadata": {},
   "outputs": [],
   "source": [
    "# Create a OneHotEncoder instance\n",
    "# enc = OneHotEncoder(sparse=False)\n",
    "\n",
    "# Fit and transform the OneHotEncoder using the categorical variable list\n",
    "# encode_df = pd.DataFrame(enc.fit_transform(dataset[dataset_cat]))\n",
    "\n",
    "# Add the encoded variable names to the dataframe\n",
    "# encode_df.columns = enc.get_feature_names_out(dataset_cat)\n",
    "\n",
    "# Set options to show all columns\n",
    "# pd.options.display.max_columns = 50\n",
    "\n",
    "# View the dataframe\n",
    "# encode_df.head()"
   ]
  },
  {
   "cell_type": "code",
   "execution_count": 15,
   "id": "298acd1b",
   "metadata": {},
   "outputs": [
    {
     "data": {
      "text/html": [
       "<style>#sk-container-id-1 {color: black;background-color: white;}#sk-container-id-1 pre{padding: 0;}#sk-container-id-1 div.sk-toggleable {background-color: white;}#sk-container-id-1 label.sk-toggleable__label {cursor: pointer;display: block;width: 100%;margin-bottom: 0;padding: 0.3em;box-sizing: border-box;text-align: center;}#sk-container-id-1 label.sk-toggleable__label-arrow:before {content: \"▸\";float: left;margin-right: 0.25em;color: #696969;}#sk-container-id-1 label.sk-toggleable__label-arrow:hover:before {color: black;}#sk-container-id-1 div.sk-estimator:hover label.sk-toggleable__label-arrow:before {color: black;}#sk-container-id-1 div.sk-toggleable__content {max-height: 0;max-width: 0;overflow: hidden;text-align: left;background-color: #f0f8ff;}#sk-container-id-1 div.sk-toggleable__content pre {margin: 0.2em;color: black;border-radius: 0.25em;background-color: #f0f8ff;}#sk-container-id-1 input.sk-toggleable__control:checked~div.sk-toggleable__content {max-height: 200px;max-width: 100%;overflow: auto;}#sk-container-id-1 input.sk-toggleable__control:checked~label.sk-toggleable__label-arrow:before {content: \"▾\";}#sk-container-id-1 div.sk-estimator input.sk-toggleable__control:checked~label.sk-toggleable__label {background-color: #d4ebff;}#sk-container-id-1 div.sk-label input.sk-toggleable__control:checked~label.sk-toggleable__label {background-color: #d4ebff;}#sk-container-id-1 input.sk-hidden--visually {border: 0;clip: rect(1px 1px 1px 1px);clip: rect(1px, 1px, 1px, 1px);height: 1px;margin: -1px;overflow: hidden;padding: 0;position: absolute;width: 1px;}#sk-container-id-1 div.sk-estimator {font-family: monospace;background-color: #f0f8ff;border: 1px dotted black;border-radius: 0.25em;box-sizing: border-box;margin-bottom: 0.5em;}#sk-container-id-1 div.sk-estimator:hover {background-color: #d4ebff;}#sk-container-id-1 div.sk-parallel-item::after {content: \"\";width: 100%;border-bottom: 1px solid gray;flex-grow: 1;}#sk-container-id-1 div.sk-label:hover label.sk-toggleable__label {background-color: #d4ebff;}#sk-container-id-1 div.sk-serial::before {content: \"\";position: absolute;border-left: 1px solid gray;box-sizing: border-box;top: 0;bottom: 0;left: 50%;z-index: 0;}#sk-container-id-1 div.sk-serial {display: flex;flex-direction: column;align-items: center;background-color: white;padding-right: 0.2em;padding-left: 0.2em;position: relative;}#sk-container-id-1 div.sk-item {position: relative;z-index: 1;}#sk-container-id-1 div.sk-parallel {display: flex;align-items: stretch;justify-content: center;background-color: white;position: relative;}#sk-container-id-1 div.sk-item::before, #sk-container-id-1 div.sk-parallel-item::before {content: \"\";position: absolute;border-left: 1px solid gray;box-sizing: border-box;top: 0;bottom: 0;left: 50%;z-index: -1;}#sk-container-id-1 div.sk-parallel-item {display: flex;flex-direction: column;z-index: 1;position: relative;background-color: white;}#sk-container-id-1 div.sk-parallel-item:first-child::after {align-self: flex-end;width: 50%;}#sk-container-id-1 div.sk-parallel-item:last-child::after {align-self: flex-start;width: 50%;}#sk-container-id-1 div.sk-parallel-item:only-child::after {width: 0;}#sk-container-id-1 div.sk-dashed-wrapped {border: 1px dashed gray;margin: 0 0.4em 0.5em 0.4em;box-sizing: border-box;padding-bottom: 0.4em;background-color: white;}#sk-container-id-1 div.sk-label label {font-family: monospace;font-weight: bold;display: inline-block;line-height: 1.2em;}#sk-container-id-1 div.sk-label-container {text-align: center;}#sk-container-id-1 div.sk-container {/* jupyter's `normalize.less` sets `[hidden] { display: none; }` but bootstrap.min.css set `[hidden] { display: none !important; }` so we also need the `!important` here to be able to override the default hidden behavior on the sphinx rendered scikit-learn.org. See: https://github.com/scikit-learn/scikit-learn/issues/21755 */display: inline-block !important;position: relative;}#sk-container-id-1 div.sk-text-repr-fallback {display: none;}</style><div id=\"sk-container-id-1\" class=\"sk-top-container\"><div class=\"sk-text-repr-fallback\"><pre>RandomForestRegressor(n_estimators=10, random_state=0)</pre><b>In a Jupyter environment, please rerun this cell to show the HTML representation or trust the notebook. <br />On GitHub, the HTML representation is unable to render, please try loading this page with nbviewer.org.</b></div><div class=\"sk-container\" hidden><div class=\"sk-item\"><div class=\"sk-estimator sk-toggleable\"><input class=\"sk-toggleable__control sk-hidden--visually\" id=\"sk-estimator-id-1\" type=\"checkbox\" checked><label for=\"sk-estimator-id-1\" class=\"sk-toggleable__label sk-toggleable__label-arrow\">RandomForestRegressor</label><div class=\"sk-toggleable__content\"><pre>RandomForestRegressor(n_estimators=10, random_state=0)</pre></div></div></div></div></div>"
      ],
      "text/plain": [
       "RandomForestRegressor(n_estimators=10, random_state=0)"
      ]
     },
     "execution_count": 15,
     "metadata": {},
     "output_type": "execute_result"
    }
   ],
   "source": [
    "# Step 4: Training the Random Forest Regression model on the training set\n",
    "\n",
    "# Fitting Random Forest Regression to the dataset\n",
    "from sklearn.ensemble import RandomForestRegressor\n",
    "regressor = RandomForestRegressor(n_estimators = 10, random_state = 0)\n",
    "regressor.fit(X_train, y_train)"
   ]
  },
  {
   "cell_type": "code",
   "execution_count": 17,
   "id": "dc4bc33f",
   "metadata": {},
   "outputs": [
    {
     "data": {
      "text/plain": [
       "array([10.84, 12.47,  5.25, 10.32,  9.75, 10.75,  7.89,  9.6 , 10.35,\n",
       "        9.54,  8.38,  6.41,  8.83,  7.74,  8.18,  5.56, 10.35,  5.96,\n",
       "        8.02,  7.  ,  8.99,  6.62,  8.98,  7.95,  9.08,  6.79,  8.3 ,\n",
       "        9.3 , 12.56,  6.92, 11.69,  6.74,  7.44,  8.94,  8.14,  7.05,\n",
       "        6.37,  5.94, 10.87,  7.97,  9.48,  6.71, 11.51,  9.91,  6.41,\n",
       "       10.89, 11.48,  7.14,  8.69, 10.1 ,  7.4 ,  9.13,  7.63,  6.62,\n",
       "        8.88, 10.34,  4.69,  5.3 , 10.33, 10.77,  7.61,  7.48, 11.12,\n",
       "        8.05,  7.6 ,  8.34,  7.33, 10.62,  9.41,  9.7 , 10.04,  8.79,\n",
       "       10.43, 10.04, 10.04,  4.86,  8.52, 14.61,  7.26,  8.65,  9.26,\n",
       "        6.19,  5.49,  5.83,  5.9 ,  5.73,  8.21,  7.58,  9.88,  7.63,\n",
       "        9.38,  8.73,  9.14, 12.43,  6.38, 11.16, 12.68, 11.56,  7.65,\n",
       "       11.3 ,  6.9 ,  8.61, 10.27,  6.24, 10.26,  9.81,  9.93,  7.74,\n",
       "        7.37, 11.83,  8.66, 10.6 ,  9.7 ,  8.4 ,  7.3 ,  9.77, 10.03,\n",
       "        7.28, 12.13,  7.62, 10.3 ,  8.4 , 10.27,  8.35,  8.75,  5.75,\n",
       "        7.68,  5.58,  7.67, 11.98,  8.27,  5.92,  5.83,  9.97,  9.87,\n",
       "        7.57,  7.93,  7.6 ,  9.12,  5.47,  9.66,  7.54,  5.55,  9.85,\n",
       "       10.72,  8.12,  8.31,  7.57,  4.77,  6.93,  9.68,  8.78,  6.35,\n",
       "        8.13, 11.33,  3.78,  7.2 ])"
      ]
     },
     "execution_count": 17,
     "metadata": {},
     "output_type": "execute_result"
    }
   ],
   "source": [
    "# Step 5: Predicting the Results\n",
    "y_pred = regressor.predict(X_test)\n",
    "y_pred"
   ]
  },
  {
   "cell_type": "code",
   "execution_count": 18,
   "id": "ad340583",
   "metadata": {},
   "outputs": [
    {
     "name": "stdout",
     "output_type": "stream",
     "text": [
      "Root Mean Squared Error: 1.1067399190449594\n"
     ]
    }
   ],
   "source": [
    "# Step 6: Evaluating the Algorithm\n",
    "from sklearn import metrics \n",
    "print('Root Mean Squared Error:', np.sqrt(metrics.mean_squared_error(y_test, y_pred)))"
   ]
  },
  {
   "cell_type": "code",
   "execution_count": null,
   "id": "83f0f1b3",
   "metadata": {},
   "outputs": [],
   "source": [
    "regressor.feature_importances_"
   ]
  },
  {
   "cell_type": "code",
   "execution_count": null,
   "id": "a2abd4ec",
   "metadata": {},
   "outputs": [],
   "source": [
    "features = sorted(zip(X.columns, regressor.feature_importances_), key = lambda x: x[1])\n",
    "cols = [f[0] for f in features]\n",
    "width = [f[1] for f in features]\n",
    "fig, ax = plt.subplots()\n",
    "fig.set_size_inches(20,20)\n",
    "plt.margins(y=0.001)\n",
    "ax.barh(y=cols, width=width)\n",
    "plt.show()"
   ]
  },
  {
   "cell_type": "code",
   "execution_count": null,
   "id": "8737eac3",
   "metadata": {},
   "outputs": [],
   "source": []
  },
  {
   "cell_type": "code",
   "execution_count": null,
   "id": "8046362e",
   "metadata": {},
   "outputs": [],
   "source": [
    "regressor.score(X_test, y_test)"
   ]
  },
  {
   "cell_type": "code",
   "execution_count": null,
   "id": "4d312fa8",
   "metadata": {},
   "outputs": [],
   "source": [
    "# Step 5: Predicting the Results\n",
    "\n",
    "y_pred = regressor.predict(X_test)"
   ]
  },
  {
   "cell_type": "code",
   "execution_count": null,
   "id": "16bdc18d",
   "metadata": {},
   "outputs": [],
   "source": [
    "# Step 6: Comparing the Real Values with Predicted Values\n",
    "df = pd.DataFrame({'Real Values':y_test, 'Predicted Values':y_pred})\n",
    "df"
   ]
  },
  {
   "cell_type": "code",
   "execution_count": null,
   "id": "5a626122",
   "metadata": {},
   "outputs": [],
   "source": [
    "plt.title('Scatter Plots')\n",
    "plt.xlabel('Levels_Smokers')\n",
    "plt.ylabel('Levels_COPD')\n",
    "plt.scatter(X, y)\n",
    "plt.show()"
   ]
  },
  {
   "cell_type": "code",
   "execution_count": null,
   "id": "b465e7fc",
   "metadata": {},
   "outputs": [],
   "source": [
    "X.info()"
   ]
  },
  {
   "cell_type": "code",
   "execution_count": null,
   "id": "ccf74a09",
   "metadata": {
    "scrolled": true
   },
   "outputs": [],
   "source": [
    "np.arange(X)"
   ]
  },
  {
   "cell_type": "code",
   "execution_count": null,
   "id": "eef0b816",
   "metadata": {},
   "outputs": [],
   "source": []
  },
  {
   "cell_type": "code",
   "execution_count": null,
   "id": "e398e395",
   "metadata": {},
   "outputs": [],
   "source": [
    "# # Visualising the Random Forest Regression Results  \n",
    "# \n",
    "X_grid = np.arange(int (float(min(X))), int(float(max(X))), 0.01)\n",
    "X_grid = X_grid.reshape((len(X_grid), 1))\n",
    "plt.scatter(X_test, y_test, color = 'red')\n",
    "plt.scatter(X_test, y_pred, color = 'green')\n",
    "plt.title('Random Forest Regression')\n",
    "plt.xlabel('Levels_Smokers')\n",
    "plt.ylabel('Levels_COPD')\n",
    "plt.show()"
   ]
  },
  {
   "cell_type": "code",
   "execution_count": null,
   "id": "9ac6b79e",
   "metadata": {},
   "outputs": [],
   "source": [
    "plt.plot(X_grid, regressor.predict(X_grid), color = 'black')\n",
    "plt.title('Random Forest Regression')\n",
    "plt.xlabel('Temperature')\n",
    "plt.ylabel('Revenue')\n",
    "plt.show()"
   ]
  },
  {
   "cell_type": "code",
   "execution_count": null,
   "id": "470dbe12",
   "metadata": {},
   "outputs": [],
   "source": []
  },
  {
   "cell_type": "code",
   "execution_count": null,
   "id": "49f4539b",
   "metadata": {},
   "outputs": [],
   "source": []
  },
  {
   "cell_type": "code",
   "execution_count": null,
   "id": "52adb9fe",
   "metadata": {},
   "outputs": [],
   "source": [
    "# Generate dummy dataset\n",
    "X, y = make_blobs(n_samples=1000, centers=2, n_features=2, random_state=78)\n",
    "\n",
    "# Creating a DataFrame with the dummy data\n",
    "df = pd.DataFrame(X, columns=[\"Feature 1\", \"Feature 2\"])\n",
    "df[\"Target\"] = y\n",
    "\n",
    "# Plotting the dummy data\n",
    "df.plot.scatter(x=\"Feature 1\", y=\"Feature 2\", c=\"Target\", colormap=\"winter\")"
   ]
  },
  {
   "cell_type": "code",
   "execution_count": null,
   "id": "9953982a",
   "metadata": {},
   "outputs": [],
   "source": []
  },
  {
   "cell_type": "code",
   "execution_count": null,
   "id": "efe6b613",
   "metadata": {},
   "outputs": [],
   "source": [
    "# Use sklearn to split dataset\n",
    "from sklearn.model_selection import train_test_split\n",
    "X_train, X_test, y_train, y_test = train_test_split(X, y, random_state=78)"
   ]
  },
  {
   "cell_type": "code",
   "execution_count": null,
   "id": "4478d489",
   "metadata": {},
   "outputs": [],
   "source": [
    "# Create scaler instance\n",
    "X_scaler = skl.preprocessing.StandardScaler()\n",
    "\n",
    "# Fit the scaler\n",
    "X_scaler.fit(X_train)\n",
    "\n",
    "# Scale the data\n",
    "X_train_scaled = X_scaler.transform(X_train)\n",
    "X_test_scaled = X_scaler.transform(X_test)"
   ]
  },
  {
   "cell_type": "code",
   "execution_count": null,
   "id": "bae50dfa",
   "metadata": {},
   "outputs": [],
   "source": [
    "# Create the Keras Sequential model\n",
    "nn_model = tf.keras.models.Sequential()"
   ]
  },
  {
   "cell_type": "code",
   "execution_count": null,
   "id": "88751a9c",
   "metadata": {},
   "outputs": [],
   "source": [
    "# Add our first Dense layer, including the input layer\n",
    "nn_model.add(tf.keras.layers.Dense(units=1, activation=\"relu\", input_dim=2))"
   ]
  },
  {
   "cell_type": "code",
   "execution_count": null,
   "id": "4739f56b",
   "metadata": {},
   "outputs": [],
   "source": [
    "# Add the output layer that uses a probability activation function\n",
    "nn_model.add(tf.keras.layers.Dense(units=1, activation=\"sigmoid\"))"
   ]
  },
  {
   "cell_type": "code",
   "execution_count": null,
   "id": "6c45ccdd",
   "metadata": {},
   "outputs": [],
   "source": [
    "# Check the structure of the Sequential model\n",
    "nn_model.summary()"
   ]
  },
  {
   "cell_type": "code",
   "execution_count": null,
   "id": "adbdc5ec",
   "metadata": {},
   "outputs": [],
   "source": [
    "# Compile the Sequential model together and customize metrics\n",
    "nn_model.compile(loss=\"binary_crossentropy\", optimizer=\"adam\", metrics=[\"accuracy\"])"
   ]
  },
  {
   "cell_type": "code",
   "execution_count": null,
   "id": "cb3e52a6",
   "metadata": {},
   "outputs": [],
   "source": [
    "# Fit the model to the training data\n",
    "fit_model = nn_model.fit(X_train_scaled, y_train, epochs=100)"
   ]
  },
  {
   "cell_type": "code",
   "execution_count": null,
   "id": "0ee0442c",
   "metadata": {},
   "outputs": [],
   "source": [
    "# Create a DataFrame containing training history\n",
    "history_df = pd.DataFrame(fit_model.history, index=range(1,len(fit_model.history[\"loss\"])+1))\n",
    "\n",
    "# Plot the loss\n",
    "history_df.plot(y=\"loss\")"
   ]
  },
  {
   "cell_type": "code",
   "execution_count": null,
   "id": "e56ea48d",
   "metadata": {},
   "outputs": [],
   "source": [
    "# Plot the accuracy\n",
    "history_df.plot(y=\"accuracy\")"
   ]
  },
  {
   "cell_type": "code",
   "execution_count": null,
   "id": "27dc448a",
   "metadata": {},
   "outputs": [],
   "source": [
    "# Evaluate the model using the test data\n",
    "model_loss, model_accuracy = nn_model.evaluate(X_test_scaled,y_test,verbose=2)\n",
    "print(f\"Loss: {model_loss}, Accuracy: {model_accuracy}\")"
   ]
  },
  {
   "cell_type": "code",
   "execution_count": null,
   "id": "2f37c1f8",
   "metadata": {},
   "outputs": [],
   "source": []
  }
 ],
 "metadata": {
  "kernelspec": {
   "display_name": "Tensorflow",
   "language": "python",
   "name": "tfenv"
  },
  "language_info": {
   "codemirror_mode": {
    "name": "ipython",
    "version": 3
   },
   "file_extension": ".py",
   "mimetype": "text/x-python",
   "name": "python",
   "nbconvert_exporter": "python",
   "pygments_lexer": "ipython3",
   "version": "3.10.6"
  }
 },
 "nbformat": 4,
 "nbformat_minor": 5
}
